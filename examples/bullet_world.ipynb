{
 "cells": [
  {
   "cell_type": "markdown",
   "id": "81189461",
   "metadata": {},
   "source": [
    "# Bullet World\n",
    "This Notebook will show you the basics of working with the PyCRAM BulletWorld.\n",
    "\n",
    "First we need to import and create a BulletWorld."
   ]
  },
  {
   "cell_type": "code",
   "execution_count": 1,
   "id": "c0ff3630",
   "metadata": {
    "tags": []
   },
   "outputs": [
    {
     "name": "stderr",
     "output_type": "stream",
     "text": [
      "(robot-description) Could not get robot name from parameter server. Try again.\n",
      "Unable to import Giskard messages. Real robot not available\n",
      "Could not import RoboKudo messages, RoboKudo interface could not be initialized\n",
      "pybullet build time: Nov 28 2023 23:45:17\n"
     ]
    }
   ],
   "source": [
    "from pycram.worlds import bullet_world\n",
    "from pycram.datastructures.pose import Pose\n",
    "\n",
    "world = bullet_world.BulletWorld()"
   ]
  },
  {
   "cell_type": "code",
   "execution_count": 2,
   "id": "397f8d84-e11d-4208-8a5e-4ea0e04b29c6",
   "metadata": {
    "tags": []
   },
   "outputs": [],
   "source": [
    "from pycram.ros.tf_broadcaster import TFBroadcaster\n",
    "from pycram.ros.viz_marker_publisher import VizMarkerPublisher\n",
    "\n",
    "broadcaster = TFBroadcaster()\n",
    "v = VizMarkerPublisher()"
   ]
  },
  {
   "cell_type": "markdown",
   "id": "0d4d819d",
   "metadata": {},
   "source": [
    "This new window is the BulletWorld, PyCRAMs internal physics simulation. You can use the mouse to move the camera around:\n",
    "\n",
    "  * Press the left mouse button to rotate the camera\n",
    "  * Press the right mouse button to move the camera \n",
    "  * Press the middle mouse button (scroll wheel) and move the mouse up or down to zoom\n",
    "    \n",
    "At the moment the BulletWorld only contains a floor, this is spawned by default when creating the BulletWorld. Furthermore, the gravity is set to 9.8 m^2, which is the same gravitation as the one on earth. \n",
    "    "
   ]
  },
  {
   "cell_type": "markdown",
   "id": "67b01264",
   "metadata": {},
   "source": [
    "To spawn new things in the BulletWorld we need to import the Object class and create and instance of it. "
   ]
  },
  {
   "cell_type": "code",
   "execution_count": 3,
   "id": "17209293",
   "metadata": {
    "tags": []
   },
   "outputs": [
    {
     "name": "stderr",
     "output_type": "stream",
     "text": [
      "Unknown tag \"rgba_color\" in /robot[@name='milk_object']/link[@name='milk_main']/visual[1]/material[@name='white']\n",
      "Unknown tag \"rgba_color\" in /robot[@name='milk_object']/link[@name='milk_main']/visual[1]/material[@name='white']\n"
     ]
    }
   ],
   "source": [
    "from pycram.world_concepts.world_object import Object\n",
    "\n",
    "milk = Object(\"milk\", \"milk\", \"milk.stl\", pose=Pose([1.0, 3.0, 1]))"
   ]
  },
  {
   "cell_type": "markdown",
   "id": "893059cd",
   "metadata": {},
   "source": [
    "As you can see this spawns a milk floating in the air. What we did here was create a new Object which has the name \"milk\" as well as the type \"milk\", is spawned from the file \"milk.stl\" and is at the position [0, 0, 1]. \n",
    "\n",
    "The first three of these parameters are required while the position is optional. As you can see it was sufficent to only specify the filename for PyCRAM to spawn the milk mesh. When only providing a filename PyCRAM will search in its resource directory for a matching file and use it. \n",
    "\n",
    "For a complete list of all parameters that can be used to crate an Object please check the documentation. \n",
    "\n",
    "\n",
    "\n",
    "Since the Object is spawned we can now interact with it. First we want to move it around and change it's orientation"
   ]
  },
  {
   "cell_type": "code",
   "execution_count": 4,
   "id": "91d0ad16",
   "metadata": {
    "tags": []
   },
   "outputs": [],
   "source": [
    "milk.set_position(Pose([1.0, 2.5, 1]))"
   ]
  },
  {
   "cell_type": "code",
   "execution_count": 5,
   "id": "3642b7ba",
   "metadata": {
    "tags": []
   },
   "outputs": [],
   "source": [
    "milk.set_orientation(Pose(orientation=[1, 0, 0, 1]))"
   ]
  },
  {
   "cell_type": "code",
   "execution_count": 6,
   "id": "cc8eb0d6",
   "metadata": {
    "tags": []
   },
   "outputs": [],
   "source": [
    "milk.set_pose(Pose([1.0, 3.0, 1], [0, 0, 0, 1]))"
   ]
  },
  {
   "cell_type": "markdown",
   "id": "f99bb85d",
   "metadata": {},
   "source": [
    "In the same sense as setting the position or orientation you can also get the position and orientation."
   ]
  },
  {
   "cell_type": "code",
   "execution_count": 7,
   "id": "fe508686",
   "metadata": {
    "tags": []
   },
   "outputs": [
    {
     "name": "stdout",
     "output_type": "stream",
     "text": [
      "Position: \n",
      "x: 1.0\n",
      "y: 3.0\n",
      "z: 1.0\n",
      "Orientation: \n",
      "x: 0.0\n",
      "y: 0.0\n",
      "z: 0.0\n",
      "w: 1.0\n",
      "Pose: \n",
      "header: \n",
      "  seq: 0\n",
      "  stamp: \n",
      "    secs: 1715078892\n",
      "    nsecs: 731272459\n",
      "  frame_id: \"map\"\n",
      "pose: \n",
      "  position: \n",
      "    x: 1.0\n",
      "    y: 3.0\n",
      "    z: 1.0\n",
      "  orientation: \n",
      "    x: 0.0\n",
      "    y: 0.0\n",
      "    z: 0.0\n",
      "    w: 1.0\n"
     ]
    }
   ],
   "source": [
    "print(f\"Position: \\n{milk.get_position()}\")\n",
    "\n",
    "print(f\"Orientation: \\n{milk.get_orientation()}\")\n",
    "\n",
    "print(f\"Pose: \\n{milk.get_pose()}\")"
   ]
  },
  {
   "cell_type": "markdown",
   "id": "515c218f",
   "metadata": {},
   "source": [
    "## Attachments\n",
    "You can attach Objects to each other simply by calling the attach method on one of them and providing the other as parameter. Since attachments are bi-directional it doesn't matter on which Object you call the method. \n",
    "\n",
    "First we neeed another Object"
   ]
  },
  {
   "cell_type": "code",
   "execution_count": 8,
   "id": "16268d7a",
   "metadata": {
    "tags": []
   },
   "outputs": [
    {
     "name": "stderr",
     "output_type": "stream",
     "text": [
      "Unknown tag \"rgba_color\" in /robot[@name='cereal_object']/link[@name='cereal_main']/visual[1]/material[@name='white']\n",
      "Unknown tag \"rgba_color\" in /robot[@name='cereal_object']/link[@name='cereal_main']/visual[1]/material[@name='white']\n"
     ]
    }
   ],
   "source": [
    "cereal = Object(\"cereal\", \"cereal\", \"breakfast_cereal.stl\", pose=Pose([1.0, 4.0, 1]))"
   ]
  },
  {
   "cell_type": "code",
   "execution_count": 9,
   "id": "2a125f92",
   "metadata": {
    "tags": []
   },
   "outputs": [],
   "source": [
    "milk.attach(cereal)"
   ]
  },
  {
   "cell_type": "markdown",
   "id": "5192787b",
   "metadata": {},
   "source": [
    "Now since they are attached to each other, if we move one of them the other will move in conjunction."
   ]
  },
  {
   "cell_type": "code",
   "execution_count": 10,
   "id": "3a42b286",
   "metadata": {
    "tags": []
   },
   "outputs": [],
   "source": [
    "milk.set_position(Pose([1,1,1]))"
   ]
  },
  {
   "cell_type": "markdown",
   "id": "b0dfba50",
   "metadata": {},
   "source": [
    "In the same way the Object can also be detached, just call the detach method on one of the two attached Objects."
   ]
  },
  {
   "cell_type": "code",
   "execution_count": 11,
   "id": "d48596df",
   "metadata": {
    "tags": []
   },
   "outputs": [],
   "source": [
    "cereal.detach(milk)"
   ]
  },
  {
   "cell_type": "markdown",
   "id": "582bce14",
   "metadata": {},
   "source": [
    "## Links and Joints\n",
    "Objects spawned from mesh files do not have links or joints, but if you spawn things from a URDF like a robot they will have a lot of links and joints. Every Object has two dictionaries as attributes namley ```links``` and ```joints``` which contain every link or joint as key and a unique id, used by PyBullet, as value. \n",
    "\n",
    "We will see this at the example of the PR2"
   ]
  },
  {
   "cell_type": "code",
   "execution_count": 12,
   "id": "95ae69a0",
   "metadata": {
    "tags": []
   },
   "outputs": [
    {
     "name": "stdout",
     "output_type": "stream",
     "text": [
      "{'base_link': <pycram.object_descriptors.urdf.ObjectDescription.Link object at 0x7fb099962350>, 'base_bellow_link': <pycram.object_descriptors.urdf.ObjectDescription.Link object at 0x7fb099961780>, 'base_laser_link': <pycram.object_descriptors.urdf.ObjectDescription.Link object at 0x7fb099961cf0>, 'fl_caster_rotation_link': <pycram.object_descriptors.urdf.ObjectDescription.Link object at 0x7fb099961b40>, 'fl_caster_l_wheel_link': <pycram.object_descriptors.urdf.ObjectDescription.Link object at 0x7fb099961540>, 'fl_caster_r_wheel_link': <pycram.object_descriptors.urdf.ObjectDescription.Link object at 0x7fb099961ab0>, 'fr_caster_rotation_link': <pycram.object_descriptors.urdf.ObjectDescription.Link object at 0x7fb099961ae0>, 'fr_caster_l_wheel_link': <pycram.object_descriptors.urdf.ObjectDescription.Link object at 0x7fb09979ae00>, 'fr_caster_r_wheel_link': <pycram.object_descriptors.urdf.ObjectDescription.Link object at 0x7fb09979b700>, 'bl_caster_rotation_link': <pycram.object_descriptors.urdf.ObjectDescription.Link object at 0x7fb09979a4a0>, 'bl_caster_l_wheel_link': <pycram.object_descriptors.urdf.ObjectDescription.Link object at 0x7fb09979ad70>, 'bl_caster_r_wheel_link': <pycram.object_descriptors.urdf.ObjectDescription.Link object at 0x7fb09979a950>, 'br_caster_rotation_link': <pycram.object_descriptors.urdf.ObjectDescription.Link object at 0x7fb09979ad10>, 'br_caster_l_wheel_link': <pycram.object_descriptors.urdf.ObjectDescription.Link object at 0x7fb0998b66b0>, 'br_caster_r_wheel_link': <pycram.object_descriptors.urdf.ObjectDescription.Link object at 0x7fb0998b7370>, 'torso_lift_link': <pycram.object_descriptors.urdf.ObjectDescription.Link object at 0x7fb0998b7430>, 'l_torso_lift_side_plate_link': <pycram.object_descriptors.urdf.ObjectDescription.Link object at 0x7fb0998b74f0>, 'r_torso_lift_side_plate_link': <pycram.object_descriptors.urdf.ObjectDescription.Link object at 0x7fb099963eb0>, 'imu_link': <pycram.object_descriptors.urdf.ObjectDescription.Link object at 0x7fb0998b47f0>, 'head_pan_link': <pycram.object_descriptors.urdf.ObjectDescription.Link object at 0x7fb0998b4700>, 'head_tilt_link': <pycram.object_descriptors.urdf.ObjectDescription.Link object at 0x7fb0998b4a00>, 'head_plate_frame': <pycram.object_descriptors.urdf.ObjectDescription.Link object at 0x7fb0998b4940>, 'sensor_mount_link': <pycram.object_descriptors.urdf.ObjectDescription.Link object at 0x7fb0998b4a90>, 'high_def_frame': <pycram.object_descriptors.urdf.ObjectDescription.Link object at 0x7fb0998b4b50>, 'high_def_optical_frame': <pycram.object_descriptors.urdf.ObjectDescription.Link object at 0x7fb0998b4c10>, 'double_stereo_link': <pycram.object_descriptors.urdf.ObjectDescription.Link object at 0x7fb0998b4cd0>, 'wide_stereo_link': <pycram.object_descriptors.urdf.ObjectDescription.Link object at 0x7fb0998b4d90>, 'wide_stereo_optical_frame': <pycram.object_descriptors.urdf.ObjectDescription.Link object at 0x7fb0998b4e50>, 'wide_stereo_l_stereo_camera_frame': <pycram.object_descriptors.urdf.ObjectDescription.Link object at 0x7fb0998b4f10>, 'wide_stereo_l_stereo_camera_optical_frame': <pycram.object_descriptors.urdf.ObjectDescription.Link object at 0x7fb0998b4fd0>, 'wide_stereo_r_stereo_camera_frame': <pycram.object_descriptors.urdf.ObjectDescription.Link object at 0x7fb0998b5090>, 'wide_stereo_r_stereo_camera_optical_frame': <pycram.object_descriptors.urdf.ObjectDescription.Link object at 0x7fb0998b5150>, 'narrow_stereo_link': <pycram.object_descriptors.urdf.ObjectDescription.Link object at 0x7fb0998b7f40>, 'narrow_stereo_optical_frame': <pycram.object_descriptors.urdf.ObjectDescription.Link object at 0x7fb0998b7e80>, 'narrow_stereo_l_stereo_camera_frame': <pycram.object_descriptors.urdf.ObjectDescription.Link object at 0x7fb0998b7dc0>, 'narrow_stereo_l_stereo_camera_optical_frame': <pycram.object_descriptors.urdf.ObjectDescription.Link object at 0x7fb0998b7d00>, 'narrow_stereo_r_stereo_camera_frame': <pycram.object_descriptors.urdf.ObjectDescription.Link object at 0x7fb0998b7c40>, 'narrow_stereo_r_stereo_camera_optical_frame': <pycram.object_descriptors.urdf.ObjectDescription.Link object at 0x7fb0998b7b80>, 'projector_wg6802418_frame': <pycram.object_descriptors.urdf.ObjectDescription.Link object at 0x7fb0998b7ac0>, 'projector_wg6802418_child_frame': <pycram.object_descriptors.urdf.ObjectDescription.Link object at 0x7fb0998b7a00>, 'laser_tilt_mount_link': <pycram.object_descriptors.urdf.ObjectDescription.Link object at 0x7fb0998b7940>, 'laser_tilt_link': <pycram.object_descriptors.urdf.ObjectDescription.Link object at 0x7fb0998b7880>, 'r_shoulder_pan_link': <pycram.object_descriptors.urdf.ObjectDescription.Link object at 0x7fb0998b77c0>, 'r_shoulder_lift_link': <pycram.object_descriptors.urdf.ObjectDescription.Link object at 0x7fb0998b7700>, 'r_upper_arm_roll_link': <pycram.object_descriptors.urdf.ObjectDescription.Link object at 0x7fb0998b7640>, 'r_upper_arm_link': <pycram.object_descriptors.urdf.ObjectDescription.Link object at 0x7fb0998b7580>, 'r_elbow_flex_link': <pycram.object_descriptors.urdf.ObjectDescription.Link object at 0x7fb0998b40d0>, 'r_forearm_roll_link': <pycram.object_descriptors.urdf.ObjectDescription.Link object at 0x7fb0998b41f0>, 'r_forearm_link': <pycram.object_descriptors.urdf.ObjectDescription.Link object at 0x7fb0998b4190>, 'r_wrist_flex_link': <pycram.object_descriptors.urdf.ObjectDescription.Link object at 0x7fb0998b4310>, 'r_wrist_roll_link': <pycram.object_descriptors.urdf.ObjectDescription.Link object at 0x7fb0998b43d0>, 'r_gripper_palm_link': <pycram.object_descriptors.urdf.ObjectDescription.Link object at 0x7fb0998b4490>, 'r_gripper_led_frame': <pycram.object_descriptors.urdf.ObjectDescription.Link object at 0x7fb0998b4550>, 'r_gripper_motor_accelerometer_link': <pycram.object_descriptors.urdf.ObjectDescription.Link object at 0x7fb0998b4610>, 'r_gripper_tool_frame': <pycram.object_descriptors.urdf.ObjectDescription.Link object at 0x7fb0998b7250>, 'r_gripper_motor_slider_link': <pycram.object_descriptors.urdf.ObjectDescription.Link object at 0x7fb0998b7190>, 'r_gripper_motor_screw_link': <pycram.object_descriptors.urdf.ObjectDescription.Link object at 0x7fb0998b70d0>, 'r_gripper_l_finger_link': <pycram.object_descriptors.urdf.ObjectDescription.Link object at 0x7fb0998b7010>, 'r_gripper_l_finger_tip_link': <pycram.object_descriptors.urdf.ObjectDescription.Link object at 0x7fb0998b6f50>, 'r_gripper_r_finger_link': <pycram.object_descriptors.urdf.ObjectDescription.Link object at 0x7fb0998b6e30>, 'r_gripper_r_finger_tip_link': <pycram.object_descriptors.urdf.ObjectDescription.Link object at 0x7fb0998b6e90>, 'r_gripper_l_finger_tip_frame': <pycram.object_descriptors.urdf.ObjectDescription.Link object at 0x7fb0998b6d10>, 'r_forearm_cam_frame': <pycram.object_descriptors.urdf.ObjectDescription.Link object at 0x7fb0998b6c50>, 'r_forearm_cam_optical_frame': <pycram.object_descriptors.urdf.ObjectDescription.Link object at 0x7fb0998b61d0>, 'l_shoulder_pan_link': <pycram.object_descriptors.urdf.ObjectDescription.Link object at 0x7fb0998b6110>, 'l_shoulder_lift_link': <pycram.object_descriptors.urdf.ObjectDescription.Link object at 0x7fb0998b6b90>, 'l_upper_arm_roll_link': <pycram.object_descriptors.urdf.ObjectDescription.Link object at 0x7fb0998b6ad0>, 'l_upper_arm_link': <pycram.object_descriptors.urdf.ObjectDescription.Link object at 0x7fb0998b6a10>, 'l_elbow_flex_link': <pycram.object_descriptors.urdf.ObjectDescription.Link object at 0x7fb0998b6950>, 'l_forearm_roll_link': <pycram.object_descriptors.urdf.ObjectDescription.Link object at 0x7fb0998b6830>, 'l_forearm_link': <pycram.object_descriptors.urdf.ObjectDescription.Link object at 0x7fb0998b6890>, 'l_wrist_flex_link': <pycram.object_descriptors.urdf.ObjectDescription.Link object at 0x7fb0998b6710>, 'l_wrist_roll_link': <pycram.object_descriptors.urdf.ObjectDescription.Link object at 0x7fb0998b64d0>, 'l_gripper_palm_link': <pycram.object_descriptors.urdf.ObjectDescription.Link object at 0x7fb0998b6410>, 'l_gripper_led_frame': <pycram.object_descriptors.urdf.ObjectDescription.Link object at 0x7fb0998b6350>, 'l_gripper_motor_accelerometer_link': <pycram.object_descriptors.urdf.ObjectDescription.Link object at 0x7fb0998b6290>, 'l_gripper_tool_frame': <pycram.object_descriptors.urdf.ObjectDescription.Link object at 0x7fb0998b6170>, 'l_gripper_motor_slider_link': <pycram.object_descriptors.urdf.ObjectDescription.Link object at 0x7fb0998b6050>, 'l_gripper_motor_screw_link': <pycram.object_descriptors.urdf.ObjectDescription.Link object at 0x7fb0998b5f90>, 'l_gripper_l_finger_link': <pycram.object_descriptors.urdf.ObjectDescription.Link object at 0x7fb0998b5cc0>, 'l_gripper_l_finger_tip_link': <pycram.object_descriptors.urdf.ObjectDescription.Link object at 0x7fb0998b51e0>, 'l_gripper_r_finger_link': <pycram.object_descriptors.urdf.ObjectDescription.Link object at 0x7fb0998b5300>, 'l_gripper_r_finger_tip_link': <pycram.object_descriptors.urdf.ObjectDescription.Link object at 0x7fb0998b52a0>, 'l_gripper_l_finger_tip_frame': <pycram.object_descriptors.urdf.ObjectDescription.Link object at 0x7fb0998b5510>, 'l_forearm_cam_frame': <pycram.object_descriptors.urdf.ObjectDescription.Link object at 0x7fb0998b55d0>, 'l_forearm_cam_optical_frame': <pycram.object_descriptors.urdf.ObjectDescription.Link object at 0x7fb0998b56f0>, 'torso_lift_motor_screw_link': <pycram.object_descriptors.urdf.ObjectDescription.Link object at 0x7fb0998b58d0>, 'base_footprint': <pycram.object_descriptors.urdf.ObjectDescription.RootLink object at 0x7fb0998b4760>}\n"
     ]
    }
   ],
   "source": [
    "pr2 = Object(\"pr2\", \"pr2\", \"pr2.urdf\", pose=Pose([1.0, 3.0, 0]))\n",
    "print(pr2.links)"
   ]
  },
  {
   "cell_type": "markdown",
   "id": "ccad986f",
   "metadata": {},
   "source": [
    "For links there are similar methods available as for the pose. However, you can only **get** the position and orientation of a link. "
   ]
  },
  {
   "cell_type": "code",
   "execution_count": 13,
   "id": "1fe62857",
   "metadata": {
    "tags": []
   },
   "outputs": [
    {
     "name": "stdout",
     "output_type": "stream",
     "text": [
      "Position: \n",
      "x: 0.9500000476837158\n",
      "y: 3.0\n",
      "z: 0.7906750440597534\n",
      "Orientation: \n",
      "x: 0.0\n",
      "y: 0.0\n",
      "z: 0.0\n",
      "w: 1.0\n",
      "Pose: \n",
      "header: \n",
      "  seq: 0\n",
      "  stamp: \n",
      "    secs: 1715078915\n",
      "    nsecs: 667528867\n",
      "  frame_id: \"map\"\n",
      "pose: \n",
      "  position: \n",
      "    x: 0.9500000476837158\n",
      "    y: 3.0\n",
      "    z: 0.7906750440597534\n",
      "  orientation: \n",
      "    x: 0.0\n",
      "    y: 0.0\n",
      "    z: 0.0\n",
      "    w: 1.0\n"
     ]
    }
   ],
   "source": [
    "print(f\"Position: \\n{pr2.get_link_position('torso_lift_link')}\")\n",
    "\n",
    "print(f\"Orientation: \\n{pr2.get_link_orientation('torso_lift_link')}\")\n",
    "\n",
    "print(f\"Pose: \\n{pr2.get_link_pose('torso_lift_link')}\")"
   ]
  },
  {
   "cell_type": "markdown",
   "id": "e4a9ae71",
   "metadata": {},
   "source": [
    "Methods available for joints are:\n",
    "\n",
    "  * ```get_joint_state```\n",
    "  * ```set_joint_state```\n",
    "  * ```get_joint_limits```\n",
    "  \n",
    "We will see how these methods work at the example of the torso_lift_joint"
   ]
  },
  {
   "cell_type": "code",
   "execution_count": 14,
   "id": "00a13b77",
   "metadata": {
    "tags": []
   },
   "outputs": [
    {
     "name": "stdout",
     "output_type": "stream",
     "text": [
      "Joint limits: (0.0, 0.33)\n",
      "Current Joint state: 0.0\n",
      "New Joint state: 0.2\n"
     ]
    }
   ],
   "source": [
    "print(f\"Joint limits: {pr2.get_joint_limits('torso_lift_joint')}\")\n",
    "\n",
    "print(f\"Current Joint state: {pr2.get_joint_position('torso_lift_joint')}\")\n",
    "\n",
    "pr2.set_joint_position(\"torso_lift_joint\", 0.2)\n",
    "\n",
    "print(f\"New Joint state: {pr2.get_joint_position('torso_lift_joint')}\")"
   ]
  },
  {
   "cell_type": "markdown",
   "id": "ad4cb0ab",
   "metadata": {},
   "source": [
    "Lastly, there is ```get_AABB``` AABB stands for axis aligned bounding box. This method returns two points in world coordinates which span a rectangle representing the AABB."
   ]
  },
  {
   "cell_type": "code",
   "execution_count": 15,
   "id": "c94f7c67",
   "metadata": {
    "tags": []
   },
   "outputs": [
    {
     "data": {
      "text/plain": [
       "AxisAlignedBoundingBox(min_x=0.9985, min_y=2.9985, min_z=0.06949999999999999, max_x=1.0015, max_y=3.0015, max_z=0.0725)"
      ]
     },
     "execution_count": 15,
     "metadata": {},
     "output_type": "execute_result"
    }
   ],
   "source": [
    "pr2.get_axis_aligned_bounding_box()"
   ]
  },
  {
   "cell_type": "code",
   "execution_count": null,
   "id": "3c902a63-2bfe-4b4d-98fd-ebb280111040",
   "metadata": {},
   "outputs": [],
   "source": []
  }
 ],
 "metadata": {
  "kernelspec": {
   "display_name": "Python 3 (ipykernel)",
   "language": "python",
   "name": "python3"
  },
  "language_info": {
   "codemirror_mode": {
    "name": "ipython",
    "version": 3
   },
   "file_extension": ".py",
   "mimetype": "text/x-python",
   "name": "python",
   "nbconvert_exporter": "python",
   "pygments_lexer": "ipython3",
   "version": "3.10.6"
  }
 },
 "nbformat": 4,
 "nbformat_minor": 5
}
