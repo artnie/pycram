{
 "cells": [
  {
   "cell_type": "markdown",
   "source": [
    "# Pick and Place\n",
    "\n",
    "This tutorial shows the use of Pick & Place tasks."
   ],
   "metadata": {
    "collapsed": false
   }
  },
  {
   "cell_type": "markdown",
   "source": [
    "Initialize the robot and environment."
   ],
   "metadata": {
    "collapsed": false
   }
  },
  {
   "cell_type": "code",
   "execution_count": 1,
   "outputs": [
    {
     "name": "stderr",
     "output_type": "stream",
     "text": [
      "Unknown attribute \"type\" in /robot[@name='pr2']/link[@name='base_laser_link']\n",
      "Unknown attribute \"type\" in /robot[@name='pr2']/link[@name='wide_stereo_optical_frame']\n",
      "Unknown attribute \"type\" in /robot[@name='pr2']/link[@name='narrow_stereo_optical_frame']\n",
      "Unknown attribute \"type\" in /robot[@name='pr2']/link[@name='laser_tilt_link']\n",
      "Unknown tag \"material\" in /robot[@name='plane']/link[@name='planeLink']/collision[1]\n",
      "Unknown tag \"contact\" in /robot[@name='plane']/link[@name='planeLink']\n",
      "Unknown tag \"material\" in /robot[@name='plane']/link[@name='planeLink']/collision[1]\n",
      "Unknown tag \"contact\" in /robot[@name='plane']/link[@name='planeLink']\n",
      "Unknown attribute \"type\" in /robot[@name='pr2']/link[@name='base_laser_link']\n",
      "Unknown attribute \"type\" in /robot[@name='pr2']/link[@name='wide_stereo_optical_frame']\n",
      "Unknown attribute \"type\" in /robot[@name='pr2']/link[@name='narrow_stereo_optical_frame']\n",
      "Unknown attribute \"type\" in /robot[@name='pr2']/link[@name='laser_tilt_link']\n",
      "Unknown attribute \"type\" in /robot[@name='pr2']/link[@name='base_laser_link']\n",
      "Unknown attribute \"type\" in /robot[@name='pr2']/link[@name='wide_stereo_optical_frame']\n",
      "Unknown attribute \"type\" in /robot[@name='pr2']/link[@name='narrow_stereo_optical_frame']\n",
      "Unknown attribute \"type\" in /robot[@name='pr2']/link[@name='laser_tilt_link']\n",
      "Unknown tag \"material\" in /robot[@name='apartment']/link[@name='coffe_machine']/collision[1]\n"
     ]
    }
   ],
   "source": [
    "from pycram.designators.action_designator import *\n",
    "from pycram.designators.location_designator import *\n",
    "from pycram.designators.object_designator import *\n",
    "from pycram.pose import Pose\n",
    "from pycram.bullet_world import BulletWorld, Object\n",
    "from pycram.process_module import simulated_robot, with_simulated_robot\n",
    "from pycram.ros.tf_broadcaster import TFBroadcaster\n",
    "from pycram.ros.viz_marker_publisher import VizMarkerPublisher\n",
    "\n",
    "world = BulletWorld()\n",
    "broadcaster = TFBroadcaster()\n",
    "v = VizMarkerPublisher()\n",
    "robot = Object(\"pr2\", \"robot\", \"pr2.urdf\", pose=Pose([1, 2, 0]))\n",
    "apartment = Object(\"apartment\", \"environment\", \"apartment.urdf\")"
   ],
   "metadata": {
    "collapsed": false,
    "ExecuteTime": {
     "end_time": "2023-09-05T15:40:34.239093894Z",
     "start_time": "2023-09-05T15:40:22.850860646Z"
    }
   }
  },
  {
   "cell_type": "markdown",
   "source": [
    "Spawn objects, attach spoon to the drawer, and set local variables to the robot, apartment and standard pose."
   ],
   "metadata": {
    "collapsed": false
   }
  },
  {
   "cell_type": "code",
   "execution_count": 2,
   "outputs": [],
   "source": [
    "milk = Object(\"milk\", \"milk\", \"milk.stl\", pose=Pose([2.5, 2, 1.02]), color=[1, 0, 0, 1])\n",
    "cereal = Object(\"cereal\", \"cereal\", \"breakfast_cereal.stl\", pose=Pose([2.5, 2.3, 1.05]), color=[0, 1, 0, 1])\n",
    "spoon = Object(\"spoon\", \"spoon\", \"spoon.stl\", pose=Pose([2.4, 2.2, 0.85]), color=[0, 0, 1, 1])\n",
    "bowl = Object(\"bowl\", \"bowl\", \"bowl.stl\", pose=Pose([2.5, 2.2, 1.02]), color=[1, 1, 0, 1])\n",
    "apartment.attach(spoon, 'cabinet10_drawer_top')\n",
    "\n",
    "pick_pose = Pose([2.7, 2.15, 1])\n",
    "\n",
    "robot_desig = BelieveObject(names=[\"pr2\"])\n",
    "apartment_desig = BelieveObject(names=[\"apartment\"])"
   ],
   "metadata": {
    "collapsed": false,
    "ExecuteTime": {
     "end_time": "2023-09-05T15:40:39.011304397Z",
     "start_time": "2023-09-05T15:40:38.153821881Z"
    }
   }
  },
  {
   "cell_type": "markdown",
   "source": [
    "Define a local function to move, look and detect an object. The decorator `with_simulated_robot` indicates, that we stick to the simulation, instead of executing the tasks on the real robot."
   ],
   "metadata": {
    "collapsed": false
   }
  },
  {
   "cell_type": "code",
   "execution_count": 3,
   "outputs": [],
   "source": [
    "@with_simulated_robot\n",
    "def move_and_detect(obj_type):\n",
    "    NavigateAction(target_locations=[Pose([1.7, 2, 0])]).resolve().perform()\n",
    "\n",
    "    LookAtAction(targets=[pick_pose]).resolve().perform()\n",
    "\n",
    "    object_desig = DetectAction(BelieveObject(types=[obj_type])).resolve().perform()\n",
    "\n",
    "    return object_desig"
   ],
   "metadata": {
    "collapsed": false,
    "ExecuteTime": {
     "end_time": "2023-09-05T15:40:42.725929203Z",
     "start_time": "2023-09-05T15:40:42.641565210Z"
    }
   }
  },
  {
   "cell_type": "markdown",
   "source": [
    "Without the decorator we can specify the simulated robot as a block."
   ],
   "metadata": {
    "collapsed": false
   }
  },
  {
   "cell_type": "code",
   "execution_count": 4,
   "outputs": [],
   "source": [
    "with simulated_robot:\n",
    "    ParkArmsAction([Arms.BOTH]).resolve().perform()\n",
    "\n",
    "    MoveTorsoAction([0.25]).resolve().perform()"
   ],
   "metadata": {
    "collapsed": false,
    "ExecuteTime": {
     "end_time": "2023-09-05T15:40:46.364655038Z",
     "start_time": "2023-09-05T15:40:45.064806753Z"
    }
   }
  },
  {
   "cell_type": "markdown",
   "source": [
    "First, transport the milk, using the `move_and_detect` function from above."
   ],
   "metadata": {
    "collapsed": false
   }
  },
  {
   "cell_type": "code",
   "execution_count": 5,
   "outputs": [],
   "source": [
    "with simulated_robot:\n",
    "    milk_desig = move_and_detect(\"milk\")\n",
    "\n",
    "    TransportAction(milk_desig, [\"left\"], [Pose([4.8, 3.55, 0.8])]).resolve().perform()"
   ],
   "metadata": {
    "collapsed": false,
    "ExecuteTime": {
     "end_time": "2023-09-05T15:37:32.021317695Z",
     "start_time": "2023-09-05T15:36:58.385208803Z"
    }
   }
  },
  {
   "cell_type": "markdown",
   "source": [
    "Now transport the cereal box."
   ],
   "metadata": {
    "collapsed": false
   }
  },
  {
   "cell_type": "code",
   "execution_count": null,
   "outputs": [],
   "source": [
    "with simulated_robot:\n",
    "    cereal_desig = move_and_detect(\"cereal\")\n",
    "\n",
    "    TransportAction(cereal_desig, [\"right\"], [Pose([5.2, 3.4, 0.8], [0, 0, 1, 1])]).resolve().perform()\n"
   ],
   "metadata": {
    "collapsed": false
   }
  },
  {
   "cell_type": "markdown",
   "source": [
    "Now the bowl."
   ],
   "metadata": {
    "collapsed": false
   }
  },
  {
   "cell_type": "code",
   "execution_count": null,
   "outputs": [],
   "source": [
    "with simulated_robot:\n",
    "    bowl_desig = move_and_detect(\"bowl\")\n",
    "\n",
    "    TransportAction(bowl_desig, [\"left\"], [Pose([5, 3.3, 0.8], [0, 0, 1, 1])]).resolve().perform()"
   ],
   "metadata": {
    "collapsed": false
   }
  },
  {
   "cell_type": "markdown",
   "source": [
    "For the final object we need to fetch it from a drawer. First we calculate a suitable pose to reach the drawer."
   ],
   "metadata": {
    "collapsed": false
   }
  },
  {
   "cell_type": "code",
   "execution_count": null,
   "outputs": [],
   "source": [
    "# with simulated_robot:\n",
    "#     # Finding and navigating to the drawer holding the spoon\n",
    "#     handle_desig = ObjectPart(names=[\"handle_cab10_t\"], part_of=apartment_desig.resolve())\n",
    "#     drawer_open_loc = AccessingLocation(handle_desig=handle_desig.resolve(), robot_desig=robot_desig.resolve()).resolve()\n",
    "#\n",
    "#     NavigateAction([drawer_open_loc.pose]).resolve().perform()"
   ],
   "metadata": {
    "collapsed": false
   }
  },
  {
   "cell_type": "code",
   "execution_count": 5,
   "outputs": [],
   "source": [
    "# # # # # # # # # # # # # # # # # # # # # # # # # # # #\n",
    " # # # # # # # # # # # # # # # # # # # # # # # # # # # #\n",
    "with simulated_robot:\n",
    "    handle_desig = ObjectPart(names=[\"handle_cab10_t\"], part_of=apartment_desig.resolve())\n"
   ],
   "metadata": {
    "collapsed": false,
    "ExecuteTime": {
     "end_time": "2023-09-05T15:40:51.742441172Z",
     "start_time": "2023-09-05T15:40:51.602423280Z"
    }
   }
  },
  {
   "cell_type": "code",
   "execution_count": 6,
   "outputs": [],
   "source": [
    "with simulated_robot:\n",
    "    drawer_open_loc_solutions = iter(AccessingLocation(handle_desig=handle_desig.resolve(), robot_desig=robot_desig.resolve()))"
   ],
   "metadata": {
    "collapsed": false,
    "ExecuteTime": {
     "end_time": "2023-09-05T15:40:54.799016531Z",
     "start_time": "2023-09-05T15:40:54.670841533Z"
    }
   }
  },
  {
   "cell_type": "code",
   "execution_count": 10,
   "outputs": [],
   "source": [
    "with simulated_robot:\n",
    "    drawer_open_loc = next(drawer_open_loc_solutions)"
   ],
   "metadata": {
    "collapsed": false,
    "ExecuteTime": {
     "end_time": "2023-09-05T15:41:11.498748297Z",
     "start_time": "2023-09-05T15:41:10.961099983Z"
    }
   }
  },
  {
   "cell_type": "code",
   "execution_count": 11,
   "outputs": [],
   "source": [
    "with simulated_robot:\n",
    "    ParkArmsAction([Arms.BOTH]).resolve().perform()"
   ],
   "metadata": {
    "collapsed": false,
    "ExecuteTime": {
     "end_time": "2023-09-05T15:41:15.823082840Z",
     "start_time": "2023-09-05T15:41:15.223662200Z"
    }
   }
  },
  {
   "cell_type": "code",
   "execution_count": 12,
   "outputs": [],
   "source": [
    "with simulated_robot:\n",
    "    NavigateAction([drawer_open_loc.pose]).resolve().perform()"
   ],
   "metadata": {
    "collapsed": false,
    "ExecuteTime": {
     "end_time": "2023-09-05T15:41:31.110128684Z",
     "start_time": "2023-09-05T15:41:30.601946819Z"
    }
   }
  },
  {
   "cell_type": "markdown",
   "source": [
    "Open the drawer. The spoon moves with the drawer, because it was attached to it. To move the spoon, we need to detach it."
   ],
   "metadata": {
    "collapsed": false
   }
  },
  {
   "cell_type": "code",
   "execution_count": 13,
   "outputs": [],
   "source": [
    "with simulated_robot:\n",
    "    OpenAction(object_designator_description=handle_desig, arms=[drawer_open_loc.arms[0]]).resolve().perform()"
   ],
   "metadata": {
    "collapsed": false,
    "ExecuteTime": {
     "end_time": "2023-09-05T15:41:37.179409614Z",
     "start_time": "2023-09-05T15:41:35.948693612Z"
    }
   }
  },
  {
   "cell_type": "markdown",
   "source": [
    "Look at the general direction of the drawer."
   ],
   "metadata": {
    "collapsed": false
   }
  },
  {
   "cell_type": "code",
   "execution_count": 14,
   "outputs": [],
   "source": [
    "with simulated_robot:\n",
    "    # Detect and pickup the spoon\n",
    "    LookAtAction([apartment.get_link_pose(\"handle_cab10_t\")]).resolve().perform()"
   ],
   "metadata": {
    "collapsed": false,
    "ExecuteTime": {
     "end_time": "2023-09-05T15:42:50.174552663Z",
     "start_time": "2023-09-05T15:42:49.627644285Z"
    }
   }
  },
  {
   "cell_type": "markdown",
   "source": [
    "Now perceive it, when it is in the field of view."
   ],
   "metadata": {
    "collapsed": false
   }
  },
  {
   "cell_type": "code",
   "execution_count": null,
   "outputs": [],
   "source": [
    "with simulated_robot:\n",
    "    spoon_desig = DetectAction(BelieveObject(types=[\"spoon\"])).resolve().perform()\n"
   ],
   "metadata": {
    "collapsed": false
   }
  },
  {
   "cell_type": "markdown",
   "source": [
    "Lets see how the spoon looks like."
   ],
   "metadata": {
    "collapsed": false
   }
  },
  {
   "cell_type": "code",
   "execution_count": null,
   "outputs": [],
   "source": [
    "spoon_desig"
   ],
   "metadata": {
    "collapsed": false
   }
  },
  {
   "cell_type": "markdown",
   "source": [
    "Now that we know where exactly the spoon is, we can pick it up."
   ],
   "metadata": {
    "collapsed": false
   }
  },
  {
   "cell_type": "code",
   "execution_count": null,
   "outputs": [],
   "source": [
    "with simulated_robot:\n",
    "    pickup_arm = \"left\" if drawer_open_loc.arms[0] == \"right\" else \"right\"\n",
    "    PickUpAction(spoon_desig, [pickup_arm], [\"top\"]).resolve().perform()"
   ],
   "metadata": {
    "collapsed": false
   }
  },
  {
   "cell_type": "markdown",
   "source": [
    "Get the right arm back up."
   ],
   "metadata": {
    "collapsed": false
   }
  },
  {
   "cell_type": "code",
   "execution_count": null,
   "outputs": [],
   "source": [
    "with simulated_robot:\n",
    "    ParkArmsAction([Arms.RIGHT]).resolve().perform()"
   ],
   "metadata": {
    "collapsed": false
   }
  },
  {
   "cell_type": "markdown",
   "source": [
    "Close the drawer with the left arm still holding the handle."
   ],
   "metadata": {
    "collapsed": false
   }
  },
  {
   "cell_type": "code",
   "execution_count": null,
   "outputs": [],
   "source": [
    "with simulated_robot:\n",
    "    CloseAction(object_designator_description=handle_desig, arms=[drawer_open_loc.arms[0]]).resolve().perform()\n"
   ],
   "metadata": {
    "collapsed": false
   }
  },
  {
   "cell_type": "markdown",
   "source": [
    "Release the handle and retract the gripper."
   ],
   "metadata": {
    "collapsed": false
   }
  },
  {
   "cell_type": "code",
   "execution_count": null,
   "outputs": [],
   "source": [
    "with simulated_robot:\n",
    "    gripper = \"left\"\n",
    "    motion = \"open\"\n",
    "    SetGripperAction(grippers=[gripper], motions=[motion]).resolve().perform()\n",
    "    ParkArmsAction([Arms.LEFT]).resolve().perform()"
   ],
   "metadata": {
    "collapsed": false
   }
  },
  {
   "cell_type": "markdown",
   "source": [
    "Reposition the torso."
   ],
   "metadata": {
    "collapsed": false
   }
  },
  {
   "cell_type": "code",
   "execution_count": null,
   "outputs": [],
   "source": [
    "with simulated_robot:\n",
    "    MoveTorsoAction([0.15]).resolve().perform()"
   ],
   "metadata": {
    "collapsed": false
   }
  },
  {
   "cell_type": "markdown",
   "source": [
    "Calculate and move to the target location where to drop the spoon."
   ],
   "metadata": {
    "collapsed": false
   }
  },
  {
   "cell_type": "code",
   "execution_count": null,
   "outputs": [],
   "source": [
    "with simulated_robot:\n",
    "    # Find a pose to place the spoon, move and then place it\n",
    "    spoon_target_pose = Pose([4.85, 3.3, 0.8], [0, 0, 1, 1])\n",
    "    placing_loc = CostmapLocation(target=spoon_target_pose, reachable_for=robot_desig.resolve()).resolve()\n",
    "\n",
    "    NavigateAction([placing_loc.pose]).resolve().perform()"
   ],
   "metadata": {
    "collapsed": false
   }
  },
  {
   "cell_type": "markdown",
   "source": [
    "Place the spoon at the target pose."
   ],
   "metadata": {
    "collapsed": false
   }
  },
  {
   "cell_type": "code",
   "execution_count": null,
   "outputs": [],
   "source": [
    "with simulated_robot:\n",
    "    PlaceAction(spoon_desig, [spoon_target_pose], [pickup_arm]).resolve().perform()"
   ],
   "metadata": {
    "collapsed": false
   }
  },
  {
   "cell_type": "markdown",
   "source": [
    "Open the gripper to release the spoon and retract."
   ],
   "metadata": {
    "collapsed": false
   }
  },
  {
   "cell_type": "code",
   "execution_count": null,
   "outputs": [],
   "source": [
    "with simulated_robot:\n",
    "    gripper = \"right\"\n",
    "    motion = \"open\"\n",
    "    SetGripperAction(grippers=[gripper], motions=[motion]).resolve().perform()\n",
    "    ParkArmsAction([Arms.RIGHT]).resolve().perform()"
   ],
   "metadata": {
    "collapsed": false
   }
  },
  {
   "cell_type": "code",
   "execution_count": null,
   "outputs": [],
   "source": [],
   "metadata": {
    "collapsed": false
   }
  }
 ],
 "metadata": {
  "kernelspec": {
   "display_name": "Python 3",
   "language": "python",
   "name": "python3"
  },
  "language_info": {
   "codemirror_mode": {
    "name": "ipython",
    "version": 2
   },
   "file_extension": ".py",
   "mimetype": "text/x-python",
   "name": "python",
   "nbconvert_exporter": "python",
   "pygments_lexer": "ipython2",
   "version": "2.7.6"
  }
 },
 "nbformat": 4,
 "nbformat_minor": 0
}
