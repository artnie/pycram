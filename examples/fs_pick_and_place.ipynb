{
 "cells": [
  {
   "cell_type": "markdown",
   "source": [
    "# Fall School 2023\n",
    "\n",
    "This tutorial will lead you through the Fall School 2023 content. We'll start off with the setup, then list the lectures to follow.\n",
    "\n",
    "\n",
    "## Setup\n",
    "\n",
    "This tutorial shows the use of the plan executive PyCRAM. The whole tutorial will take place in this very JupyterHub.  Open a new Launcher by opening a new tab, or with Ctrl-Shift-L. From the **Launcher** you can open a new bash terminal, the RvizWeb visualization or create a new Notebook to execute Python code from.\n",
    "\n",
    "Open a terminal from the Launcher and execute the following line the initialize the ROS environment.\n",
    "\n",
    "```bash\n",
    "roslaunch pycram ik_and_description.launch\n",
    "```\n",
    "\n",
    "The process is ready when it says `IK server ready.`\n",
    "\n",
    "Now enter the Launcher again and **start RvizWeb**. You can shove it over for a split screen with the Notebook, and close the navigation bar on the very left for a better view. RvizWeb should only show an empty grid right now.\n",
    "\n",
    "\n",
    "### Jupyter and RvizWeb\n",
    "\n",
    "A JupyterNotebook (.ipynb) is the combination of documentation and executable code. Each Notebook opens its own Python kernel and Bullet Physics simulation. That means variables defined in one Notebook do not transfer to another Notebook!\n",
    "\n",
    "The Notebooks are designed to work on a local installation of PyCRAM. To visualize the simulation in RvizWeb you need to add the following block of code **after** the initialization of the Bullet World."
   ],
   "metadata": {
    "collapsed": false
   }
  },
  {
   "cell_type": "code",
   "execution_count": null,
   "outputs": [],
   "source": [
    "# Do not execute this code. This is for copy-paste purposes only.\n",
    "\n",
    "from pycram.bullet_world import BulletWorld, Object\n",
    "from pycram.ros.tf_broadcaster import TFBroadcaster\n",
    "from pycram.ros.viz_marker_publisher import VizMarkerPublisher\n",
    "\n",
    "world = BulletWorld(\"DIRECT\") # Add \"DIRECT\" to reduce simulation overhead\n",
    "broadcaster = TFBroadcaster()\n",
    "v = VizMarkerPublisher()"
   ],
   "metadata": {
    "collapsed": false
   }
  },
  {
   "cell_type": "markdown",
   "source": [
    "Copy-paste these 4 lines into every notebook as additional code-block after initializing the simulation.\n",
    "\n",
    "## Lectures\n",
    "\n",
    "1. [Bullet World](bullet_world.ipynb) is our physics environment. Get familiar with spawning objects and poses.\n",
    "2. [Poses](pose.ipynb) will refine your understanding of applied 3D linear algebra.\n",
    "3. [Object Designators](object_designator.ipynb) are the vague description of objects in the world.\n",
    "4. [Motion Designators](motion_designator.ipynb) are the lowest-level instructions for the robot.\n",
    "5. [Location Designators](location_designator.ipynb) are underspecified regions that span up a distribution of poses, also known as a Costmap.\n",
    "6. [Action Designators](action_designator.ipynb) are descriptions of actions. Resolve and perform them to make the robot do things.\n",
    "7. [Task Trees](minimal_task_tree.ipynb) are one representation of the execution trace. It contains every action executed and the parameters used within.\n",
    "8. [Object Relational Mapping](orm_example.ipynb) is one of our mechanisms, to store a robots experience during its execution.\n",
    "\n",
    "\n",
    "## Troubleshoot\n",
    "\n",
    "When you start a new Notebook, refresh RvizWeb with the circled arrow button in the top right. If you have any leftovers from a Notebook, restart the launchfile and kill all kernels via the `Kernel` menu element in the top bar. Restart the current kernel if the visualization gets stuck as well.\n",
    "\n",
    "If you are stuck with weird changes in your Notebook, you can revert it to its original state with right-click -> Git -> Discard.\n",
    "\n",
    "\n",
    "## Latest developments\n",
    "\n",
    "Following you have an example of solution iterators. As you have surely recognized, finding suitable locations is computationally heavy. We want to solve this by finding the next solution iteratively. Costmaps can be designed as iterators, to retreive new solutions if the current one is bad.\n",
    "\n",
    "First we initialize the world, robot and environment."
   ],
   "metadata": {
    "collapsed": false
   }
  },
  {
   "cell_type": "code",
   "execution_count": null,
   "outputs": [],
   "source": [
    "from pycram.designators.location_designator import *\n",
    "from pycram.designators.object_designator import *\n",
    "from pycram.pose import Pose\n",
    "from pycram.bullet_world import BulletWorld, Object\n",
    "from pycram.process_module import simulated_robot\n",
    "\n",
    "world = BulletWorld(\"DIRECT\")\n",
    "robot = Object(\"pr2\", \"robot\", \"pr2.urdf\", pose=Pose([1, 2, 0]))\n",
    "apartment = Object(\"apartment\", \"environment\", \"apartment.urdf\")\n",
    "\n",
    "robot_desig = BelieveObject(names=[\"pr2\"])\n",
    "apartment_desig = BelieveObject(names=[\"apartment\"])"
   ],
   "metadata": {
    "collapsed": false
   }
  },
  {
   "cell_type": "markdown",
   "source": [
    "Retreive the handle of a drawer and create a generator for locations to access it."
   ],
   "metadata": {
    "collapsed": false
   }
  },
  {
   "cell_type": "code",
   "execution_count": 5,
   "outputs": [],
   "source": [
    "with simulated_robot:\n",
    "    handle_desig = ObjectPart(names=[\"handle_cab10_t\"], part_of=apartment_desig.resolve())\n",
    "    drawer_open_loc_solutions = \\\n",
    "        iter(AccessingLocation(handle_desig=handle_desig.resolve(),\n",
    "                               robot_desig=robot_desig.resolve()))"
   ],
   "metadata": {
    "collapsed": false,
    "ExecuteTime": {
     "end_time": "2023-09-05T15:40:51.742441172Z",
     "start_time": "2023-09-05T15:40:51.602423280Z"
    }
   }
  },
  {
   "cell_type": "markdown",
   "source": [
    "Then iterate through the solutions."
   ],
   "metadata": {
    "collapsed": false
   }
  },
  {
   "cell_type": "code",
   "execution_count": 10,
   "outputs": [],
   "source": [
    "with simulated_robot:\n",
    "    drawer_open_loc = next(drawer_open_loc_solutions)"
   ],
   "metadata": {
    "collapsed": false,
    "ExecuteTime": {
     "end_time": "2023-09-05T15:41:11.498748297Z",
     "start_time": "2023-09-05T15:41:10.961099983Z"
    }
   }
  },
  {
   "cell_type": "markdown",
   "source": [
    "This is the underlying technique used for finding solutions for the OpenAction, as described in the lecture on action designators."
   ],
   "metadata": {
    "collapsed": false
   }
  }
 ],
 "metadata": {
  "kernelspec": {
   "display_name": "Python 3",
   "language": "python",
   "name": "python3"
  },
  "language_info": {
   "codemirror_mode": {
    "name": "ipython",
    "version": 2
   },
   "file_extension": ".py",
   "mimetype": "text/x-python",
   "name": "python",
   "nbconvert_exporter": "python",
   "pygments_lexer": "ipython2",
   "version": "2.7.6"
  }
 },
 "nbformat": 4,
 "nbformat_minor": 0
}
